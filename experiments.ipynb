{
 "cells": [
  {
   "cell_type": "code",
   "execution_count": 226,
   "metadata": {
    "pycharm": {
     "name": "#%%\n"
    }
   },
   "outputs": [
    {
     "name": "stdout",
     "output_type": "stream",
     "text": [
      "The autoreload extension is already loaded. To reload it, use:\n",
      "  %reload_ext autoreload\n"
     ]
    }
   ],
   "source": [
    "from l1_csvd.metrics import metric_11, join_sol, Mp, Mah_dist, NR, R_sv\n",
    "from l1_csvd.utils.seed import seed_everything\n",
    "\n",
    "import pandas as pd\n",
    "import numpy as np\n",
    "import seaborn as sns\n",
    "import matplotlib.pyplot as plt\n",
    "\n",
    "from tqdm.notebook import tqdm\n",
    "from IPython.display import display\n",
    "from copy import deepcopy\n",
    "sns.set()\n",
    "\n",
    "%matplotlib inline\n",
    "# %config InlineBackend.figure_format = 'pdf'\n",
    "%load_ext autoreload\n",
    "%autoreload 2\n",
    "\n",
    "seed_everything(42)\n"
   ]
  },
  {
   "cell_type": "code",
   "execution_count": 265,
   "metadata": {
    "pycharm": {
     "name": "#%%\n"
    }
   },
   "outputs": [],
   "source": [
    "import numpy as np\n",
    "from scipy.stats import ortho_group\n",
    "\n",
    "from l1_csvd.utils import L1pca\n",
    "\n",
    "def L1_cSVD(X, K, seed=42, num_iter=10):\n",
    "    \"\"\"Get L1 cSVD decomposition.\n",
    "\n",
    "    Parameters\n",
    "    ----------\n",
    "    X:\n",
    "        data matrix\n",
    "    K:\n",
    "        the number of components\n",
    "    num_iter:\n",
    "        number of iterations\n",
    "    \"\"\"\n",
    "    \n",
    "    seed_everything(seed)\n",
    "    D, N = X.shape\n",
    "    U = L1pca(X, K)\n",
    "    A = np.dot(X.T, U)\n",
    "    Sigma = np.zeros((K, K))\n",
    "    V = ortho_group.rvs(dim=N, random_state=seed)[:K].T\n",
    "    #print(V)\n",
    "    metrics = {\n",
    "        \"Mp\": [],\n",
    "        \"metric_11\": [],\n",
    "        \"join_sol\": [],\n",
    "        \"Mah_dist\": [],\n",
    "        \"NR\": [],\n",
    "        \"R_sv\": []\n",
    "    }\n",
    "    \n",
    "    # metrics[\"metric_11\"].append(metric_11(X, U, Sigma, V))\n",
    "    # metrics[\"Mp\"].append(Mp(X, U, Sigma, V))\n",
    "    \n",
    "    for _ in tqdm(range(num_iter)):\n",
    "        for i in range(K):\n",
    "            s = np.empty(N)\n",
    "            M = np.empty(N)\n",
    "            for j in range(N):\n",
    "                s[j] = A[j][i] / V[j][i]\n",
    "\n",
    "                tmp = A[:, i] - s[j] * V[:, i]\n",
    "                M[j] = np.linalg.norm(tmp, ord=1)\n",
    "\n",
    "            j_opt = np.argmin(M)\n",
    "            Sigma[i][i] = s[j_opt]\n",
    "        tmp = np.diag(1 / np.diagonal(Sigma))\n",
    "        U_, Sigma_, V_ = np.linalg.svd(np.dot(A, tmp), full_matrices=False)\n",
    "        V = np.dot(U_, V_)\n",
    "        \n",
    "        metrics[\"metric_11\"].append(metric_11(X, U, Sigma, V))\n",
    "        metrics[\"Mp\"].append(Mp(X, U, Sigma, V))\n",
    "                \n",
    "    return U, Sigma, V, metrics\n"
   ]
  },
  {
   "cell_type": "markdown",
   "metadata": {
    "pycharm": {
     "name": "#%% md\n"
    }
   },
   "source": [
    "#### A. Algorithm Analysis: Convergence"
   ]
  },
  {
   "cell_type": "code",
   "execution_count": 3,
   "metadata": {
    "pycharm": {
     "name": "#%%\n"
    }
   },
   "outputs": [],
   "source": [
    "X = np.random.randn(10, 50)"
   ]
  },
  {
   "cell_type": "code",
   "execution_count": 4,
   "metadata": {
    "pycharm": {
     "name": "#%%\n"
    }
   },
   "outputs": [
    {
     "name": "stdout",
     "output_type": "stream",
     "text": [
      "L1pca start\n",
      "BNM Iter: 1 | -Loss: 70.10671532863853 | Time spend (min): 5.280176798502604e-05\n",
      "BNM Iter: 2 | -Loss: 104.37477070705563 | Time spend (min): 5.743900934855143e-05\n",
      "\n",
      "[[ 2.19943764e-01  4.98919904e-02  1.22030005e-01  2.79396746e-01]\n",
      " [-2.75863078e-01  1.35043081e-01 -9.08167410e-02  2.02895276e-02]\n",
      " [ 8.25787614e-02  1.07027518e-01 -5.24014277e-02 -2.30935196e-01]\n",
      " [-1.90350911e-01 -1.19288784e-01  5.99845370e-02  1.30195166e-01]\n",
      " [ 9.04689813e-02 -1.64203619e-02  1.83035100e-02 -7.29910323e-03]\n",
      " [ 2.00972099e-01  4.01544453e-02 -8.24511611e-03  5.85642368e-03]\n",
      " [-1.09170327e-02  1.57041586e-01 -3.34385094e-01  8.94181916e-02]\n",
      " [-1.05158651e-01 -8.25424520e-02 -3.47244001e-01  2.92087285e-02]\n",
      " [ 6.93010354e-03 -1.91547470e-01  2.00859646e-01  5.19971830e-02]\n",
      " [-7.89675830e-02  2.01550359e-01  8.88378699e-02 -1.68615238e-01]\n",
      " [-3.78319386e-02 -8.24324307e-02  1.56522199e-01  2.44790840e-01]\n",
      " [-1.37858326e-01 -1.58875268e-01 -2.05700734e-01  2.28256674e-01]\n",
      " [ 1.21244924e-01 -9.32844209e-02  7.43239389e-02  2.07045984e-01]\n",
      " [ 9.28868320e-02 -5.17477050e-03 -3.75866209e-01  1.05890451e-01]\n",
      " [ 2.00596703e-01  1.54073620e-01  3.76245789e-02  1.13911207e-01]\n",
      " [-3.11614511e-02 -5.90502393e-02 -4.60227083e-03  2.22593593e-02]\n",
      " [-5.45071898e-03 -3.89460040e-01 -1.47937397e-01  1.71040894e-01]\n",
      " [-6.35635032e-02 -9.27096531e-02  4.63603815e-02  8.71409605e-03]\n",
      " [ 8.38321701e-02  6.87824670e-02 -8.33032511e-02  6.07887808e-02]\n",
      " [ 2.93913908e-01 -2.92080252e-02 -3.45843946e-04 -1.17939934e-01]\n",
      " [-1.98263494e-01  8.65883464e-02  2.38807944e-02  6.94017397e-02]\n",
      " [ 3.11941856e-02 -8.88095373e-02  1.56568795e-01  2.25665445e-02]\n",
      " [-2.06588696e-01 -1.89372597e-01 -9.34910663e-02 -2.21077669e-01]\n",
      " [-2.00247122e-02  8.33653365e-03  1.72703803e-01 -3.34057825e-01]\n",
      " [-1.96179772e-02 -9.44819251e-02 -2.77306673e-02  5.71647906e-02]\n",
      " [-1.12437483e-01 -9.20857666e-02  8.74805862e-02 -3.65784086e-02]\n",
      " [-3.11091990e-02  1.79805017e-01 -3.94319431e-02 -1.38694452e-01]\n",
      " [-5.89126739e-02  3.30796074e-02 -1.08527740e-02  5.83537765e-03]\n",
      " [-7.67896574e-02  1.20362232e-01  2.23462179e-01 -1.05473088e-01]\n",
      " [-1.26793505e-01  1.96045774e-01  3.54271318e-02 -3.69689251e-02]\n",
      " [-1.23848935e-01 -2.72002942e-01 -4.82723494e-02 -8.50328742e-02]\n",
      " [ 1.25437094e-01 -9.85699574e-02 -1.38851994e-01 -4.72031545e-02]\n",
      " [-4.61325065e-02 -1.72174721e-01  5.90697340e-02  2.35539946e-01]\n",
      " [ 1.99353222e-01 -2.53810574e-01 -1.28932805e-01 -1.36926472e-01]\n",
      " [ 1.14227375e-01 -6.89922554e-03  3.74606718e-03 -6.46124874e-02]\n",
      " [ 4.07532610e-01 -1.36156425e-01 -1.45047497e-02 -2.20021019e-02]\n",
      " [-1.49826665e-01  2.21168182e-01 -4.64340711e-02  2.43516498e-01]\n",
      " [-1.71963722e-02 -1.81759041e-02 -2.48171069e-01 -1.40304380e-01]\n",
      " [-1.11602813e-01 -2.36147993e-01  1.18102918e-01 -1.42184654e-01]\n",
      " [-1.73754701e-01  4.00894293e-02  4.70299804e-02 -8.61790661e-03]\n",
      " [ 1.49634034e-02 -1.14747433e-01 -3.95453657e-02 -1.49841651e-01]\n",
      " [-6.82608182e-02  6.34996215e-02 -6.82808725e-02  1.65204771e-01]\n",
      " [-2.68637882e-01 -7.72267535e-02  5.30882671e-02 -6.39673385e-02]\n",
      " [-4.08761599e-02 -6.28701956e-02 -2.02960261e-01 -3.02524993e-01]\n",
      " [ 1.85258245e-01  1.71172505e-01  1.05675514e-01  9.02830227e-03]\n",
      " [ 1.26048633e-01 -1.20586257e-01  1.47803780e-01 -5.77273074e-02]\n",
      " [ 4.10787239e-02 -1.45569392e-01  7.59723959e-02 -1.19430024e-01]\n",
      " [-1.01634873e-01 -8.89980173e-02  3.07760903e-01  3.04314590e-02]\n",
      " [ 2.45155849e-02  1.09582700e-01 -9.38376231e-02 -1.71212893e-01]\n",
      " [ 4.65498640e-02  1.97370786e-01 -6.42605595e-02  4.00043999e-02]]\n"
     ]
    },
    {
     "data": {
      "application/vnd.jupyter.widget-view+json": {
       "model_id": "501b7cd257d1423099a8ae63edc06206",
       "version_major": 2,
       "version_minor": 0
      },
      "text/plain": [
       "  0%|          | 0/6 [00:00<?, ?it/s]"
      ]
     },
     "metadata": {},
     "output_type": "display_data"
    },
    {
     "name": "stdout",
     "output_type": "stream",
     "text": [
      "L1pca start\n",
      "BNM Iter: 1 | -Loss: 77.64000181194913 | Time spend (min): 2.6146570841471354e-06\n",
      "BNM Iter: 2 | -Loss: 82.00409576112014 | Time spend (min): 5.74191411336263e-06\n",
      "BNM Iter: 5 | -Loss: 87.21785524301079 | Time spend (min): 1.0438760121663411e-05\n",
      "BNM Iter: 6 | -Loss: 95.2354864992211 | Time spend (min): 1.3244152069091796e-05\n",
      "\n",
      "[[ 0.23684011 -0.08919806 -0.07701087 -0.15644579]\n",
      " [ 0.01343426 -0.05471466  0.06223424  0.20286982]\n",
      " [-0.07759797  0.17168924  0.10823559 -0.09503328]\n",
      " [ 0.18486525 -0.05001765  0.00348335 -0.10789106]\n",
      " [-0.04319766 -0.07283447 -0.00446581  0.02078984]\n",
      " [ 0.05400684 -0.14038796 -0.24938545  0.0238221 ]\n",
      " [-0.16336668 -0.26465105  0.07607445 -0.1334777 ]\n",
      " [-0.05719233 -0.02529956 -0.13805653 -0.10094549]\n",
      " [ 0.09744465  0.02767146 -0.23047194  0.0782489 ]\n",
      " [ 0.07287173  0.03428796  0.03398704  0.05289074]\n",
      " [-0.1675523  -0.23401301 -0.10736557 -0.03360219]\n",
      " [ 0.12033587 -0.0101588  -0.17255028  0.04223478]\n",
      " [-0.11685788  0.11867729  0.07286063  0.15760559]\n",
      " [-0.00543976  0.13957103  0.17165241  0.14450131]\n",
      " [-0.13114365 -0.01611874  0.1571244  -0.20744789]\n",
      " [-0.07796115  0.33828789 -0.19923912 -0.04168605]\n",
      " [ 0.12854782  0.02160422 -0.19681632  0.04048895]\n",
      " [ 0.02912869  0.00680804  0.00331395 -0.18826327]\n",
      " [ 0.13420169  0.03182404 -0.11520388 -0.12852459]\n",
      " [-0.35694797  0.11221503  0.04115866  0.00889053]\n",
      " [-0.08968301 -0.2019405   0.01227359  0.12664448]\n",
      " [ 0.02532099  0.25130989 -0.19218749  0.05050445]\n",
      " [-0.04589181  0.1219316   0.07497378 -0.09446148]\n",
      " [ 0.00918665 -0.40032231 -0.08702869 -0.33359731]\n",
      " [-0.0408613  -0.12757     0.08936846  0.09290685]\n",
      " [ 0.25421386  0.01587771  0.15388858  0.07122591]\n",
      " [ 0.1229791   0.09697727 -0.08420437 -0.00639178]\n",
      " [-0.10974606 -0.12513137 -0.23430713  0.03078481]\n",
      " [-0.21005996  0.00279997 -0.08830514  0.14629636]\n",
      " [ 0.04693939  0.02163474 -0.009065    0.08092826]\n",
      " [ 0.12971864  0.05195024 -0.00223621  0.06946157]\n",
      " [-0.31360124 -0.0212761  -0.22875209  0.22389773]\n",
      " [-0.26406835  0.01977772  0.10349792  0.10735308]\n",
      " [ 0.17358685 -0.18520444 -0.32874812  0.29443749]\n",
      " [ 0.10158015 -0.05582968  0.1101572   0.23496775]\n",
      " [-0.09641986 -0.0450447  -0.33783721 -0.08519478]\n",
      " [-0.19308155 -0.08668778 -0.07565598 -0.23065987]\n",
      " [-0.036443   -0.22666739  0.19193898 -0.0155196 ]\n",
      " [-0.06162717  0.12735883 -0.03383057 -0.14946626]\n",
      " [ 0.02896038 -0.190077    0.27872083  0.04934854]\n",
      " [ 0.16348473  0.08298075  0.13718666 -0.11928894]\n",
      " [-0.16343524  0.07665571  0.04760639  0.03571663]\n",
      " [-0.05655779 -0.30968778  0.12271353  0.19449683]\n",
      " [-0.06633299  0.0697979  -0.03919634 -0.37345389]\n",
      " [ 0.20218772 -0.17126867 -0.04064663  0.047528  ]\n",
      " [ 0.10621963 -0.08855485  0.04125344 -0.11063402]\n",
      " [ 0.11987877  0.06576814  0.17165498  0.09002367]\n",
      " [ 0.21827796  0.09029144  0.02054884 -0.10499241]\n",
      " [ 0.08372006  0.00136824 -0.03778035  0.13266808]\n",
      " [-0.02969885  0.06030263  0.00336124  0.09668942]]\n"
     ]
    },
    {
     "data": {
      "application/vnd.jupyter.widget-view+json": {
       "model_id": "9c558ebcfc494dc294658e5de0de63f4",
       "version_major": 2,
       "version_minor": 0
      },
      "text/plain": [
       "  0%|          | 0/6 [00:00<?, ?it/s]"
      ]
     },
     "metadata": {},
     "output_type": "display_data"
    },
    {
     "name": "stdout",
     "output_type": "stream",
     "text": [
      "L1pca start\n",
      "BNM Iter: 1 | -Loss: 83.92085042512693 | Time spend (min): 3.993511199951172e-06\n",
      "BNM Iter: 2 | -Loss: 89.42002995535275 | Time spend (min): 8.714199066162109e-06\n",
      "\n",
      "[[-0.05613173 -0.00757839 -0.28771715  0.22092262]\n",
      " [ 0.07932857  0.1449554  -0.03339324 -0.07081565]\n",
      " [-0.01409748  0.10942454  0.26910129 -0.14012317]\n",
      " [-0.13178731  0.09429959  0.06495556  0.07062464]\n",
      " [ 0.04158703 -0.00738152 -0.31569718  0.09698488]\n",
      " [ 0.03399329 -0.17072978 -0.03318158 -0.06922359]\n",
      " [ 0.04448405  0.03638742  0.07379667  0.10825094]\n",
      " [ 0.11793875 -0.08791317  0.2476436  -0.17374855]\n",
      " [ 0.10647092  0.09716242  0.15038628 -0.17290696]\n",
      " [-0.05093533 -0.1290457  -0.02797049  0.08709827]\n",
      " [-0.07348865 -0.18787093  0.13809904 -0.11240676]\n",
      " [-0.2861646   0.01181562 -0.10993056  0.06919308]\n",
      " [-0.16863698  0.14516533 -0.01557551 -0.207773  ]\n",
      " [ 0.2026993  -0.22596336 -0.01290362  0.15437351]\n",
      " [ 0.00641248  0.11345466 -0.12789192 -0.05678067]\n",
      " [ 0.14205718  0.13434916 -0.08344526 -0.25273883]\n",
      " [-0.18786656 -0.07800061 -0.00631389  0.04590556]\n",
      " [ 0.03267341 -0.14602978  0.01419895 -0.18391548]\n",
      " [-0.03896351  0.09192627 -0.12179976  0.00447773]\n",
      " [ 0.29518672  0.17834798 -0.20733062  0.05071556]\n",
      " [-0.18487511  0.12458159  0.11329631  0.21378854]\n",
      " [ 0.20342452 -0.06710888  0.0482663   0.13373045]\n",
      " [ 0.06395132  0.09676373  0.09003621  0.2707015 ]\n",
      " [ 0.17400014 -0.09893458 -0.18340259  0.046617  ]\n",
      " [-0.18589275 -0.13132229 -0.01195538 -0.20595487]\n",
      " [-0.10724879  0.11789721  0.07735171  0.15808526]\n",
      " [-0.03609825 -0.00437457  0.08359473 -0.08407254]\n",
      " [ 0.11892856  0.0995456  -0.01278531 -0.15352925]\n",
      " [-0.0184691  -0.11196359  0.00189739  0.00717418]\n",
      " [ 0.11599793 -0.05886476  0.03927473 -0.0601988 ]\n",
      " [-0.09075963 -0.36007475  0.0370834  -0.20769564]\n",
      " [-0.02569725  0.22296572  0.10152051 -0.11576245]\n",
      " [ 0.13285953  0.02877492 -0.01819197 -0.11595719]\n",
      " [-0.05476999 -0.20268487 -0.24782311 -0.01030894]\n",
      " [-0.01166815 -0.03739466 -0.11289483 -0.02375301]\n",
      " [-0.03765404 -0.19027919 -0.00094665  0.05257823]\n",
      " [-0.21347109 -0.04562883  0.10899846 -0.0842698 ]\n",
      " [ 0.10487278  0.10075459 -0.3016755  -0.07736537]\n",
      " [-0.10392175 -0.09451912  0.09042403 -0.10155917]\n",
      " [ 0.14575533  0.06287337  0.1946619   0.02386992]\n",
      " [ 0.28170016 -0.1568388  -0.15588281 -0.20341884]\n",
      " [ 0.23492332 -0.18288515  0.33739974  0.24241562]\n",
      " [-0.08255292  0.16606062  0.15731266  0.2314785 ]\n",
      " [ 0.13670154  0.07432662 -0.06259388  0.26545678]\n",
      " [-0.03783886 -0.08136388  0.05233734 -0.01639181]\n",
      " [-0.00446392  0.06064658 -0.03918459 -0.16454899]\n",
      " [-0.21487933  0.3681331  -0.10756581 -0.14656095]\n",
      " [-0.07866216 -0.12267498 -0.17694507 -0.03675107]\n",
      " [ 0.34502783  0.22992719  0.09980906 -0.149107  ]\n",
      " [ 0.01965937 -0.0492472  -0.06927111  0.05622367]]\n"
     ]
    },
    {
     "data": {
      "application/vnd.jupyter.widget-view+json": {
       "model_id": "f825d950b29a4edb91b0982661eaead2",
       "version_major": 2,
       "version_minor": 0
      },
      "text/plain": [
       "  0%|          | 0/6 [00:00<?, ?it/s]"
      ]
     },
     "metadata": {},
     "output_type": "display_data"
    },
    {
     "name": "stdout",
     "output_type": "stream",
     "text": [
      "L1pca start\n",
      "BNM Iter: 1 | -Loss: 79.18475909013938 | Time spend (min): 3.953774770100911e-06\n",
      "BNM Iter: 2 | -Loss: 81.08074465307536 | Time spend (min): 7.2677930196126304e-06\n",
      "BNM Iter: 6 | -Loss: 86.208802152335 | Time spend (min): 1.2775262196858725e-05\n",
      "\n",
      "[[ 0.24302759  0.05931021  0.01311147 -0.25319967]\n",
      " [-0.01019886 -0.13640853 -0.11451322 -0.14658954]\n",
      " [ 0.166023   -0.15819527  0.35677744  0.09504282]\n",
      " [-0.15949312  0.26666281 -0.02833898  0.08545042]\n",
      " [-0.08268504 -0.13636818 -0.00830314  0.00221034]\n",
      " [-0.03138913  0.06450123  0.00570599  0.10339758]\n",
      " [ 0.09931061 -0.02567097 -0.02641578 -0.04880291]\n",
      " [ 0.19323731 -0.11134514  0.03809198  0.01123426]\n",
      " [-0.08129419  0.07924671  0.31661594 -0.11022259]\n",
      " [-0.12266138  0.01890179  0.23531807 -0.0115284 ]\n",
      " [-0.23911537  0.09738014  0.27491766 -0.02944489]\n",
      " [-0.06893366 -0.0095073  -0.22804709 -0.04892474]\n",
      " [ 0.03701514  0.13860745 -0.07959925 -0.1462719 ]\n",
      " [-0.19229757 -0.08761147  0.04629627 -0.10522655]\n",
      " [ 0.04533187  0.147408    0.2477858   0.04054514]\n",
      " [-0.07240833  0.03365586 -0.11932452  0.09084516]\n",
      " [ 0.2601899   0.11172574 -0.04432536  0.14578263]\n",
      " [-0.01580242  0.10479476 -0.03597915 -0.02056968]\n",
      " [ 0.00374102  0.01677112 -0.13964665 -0.12653838]\n",
      " [-0.16849714  0.17696172  0.0805467  -0.12758181]\n",
      " [-0.03178635  0.06200583 -0.01925663  0.31798544]\n",
      " [ 0.14866003  0.00167536  0.18381325  0.02409014]\n",
      " [ 0.11577225 -0.05978117 -0.03022176 -0.14511069]\n",
      " [ 0.19483778  0.12534314  0.19791723 -0.22977526]\n",
      " [ 0.06387638 -0.15692805 -0.21947566 -0.32428435]\n",
      " [ 0.00205243 -0.06047373  0.06580126 -0.06530671]\n",
      " [-0.17432373 -0.22824681  0.09078485  0.21400419]\n",
      " [ 0.03411078 -0.27140868 -0.02946441 -0.03674648]\n",
      " [-0.05822027 -0.01922869 -0.16184196 -0.0447212 ]\n",
      " [ 0.28938963  0.05230707  0.03870899 -0.07210136]\n",
      " [ 0.07222096 -0.2330918   0.01043967  0.05014566]\n",
      " [-0.17138361  0.18304088 -0.08821466 -0.0698797 ]\n",
      " [-0.01274009 -0.2650845   0.14883153 -0.0211227 ]\n",
      " [ 0.20850898  0.05175673 -0.04478802  0.02470834]\n",
      " [ 0.1063663   0.13605625 -0.08154618  0.19156744]\n",
      " [ 0.111785   -0.09689706 -0.19481402  0.16484639]\n",
      " [ 0.00615708 -0.00174452  0.23289577 -0.07019483]\n",
      " [-0.08378706 -0.12825707  0.20550116  0.02996341]\n",
      " [-0.12968324  0.12117722  0.09581603 -0.33480876]\n",
      " [-0.24558081  0.07644119 -0.19454478 -0.12419152]\n",
      " [-0.0893119   0.06764259 -0.01679835  0.10464016]\n",
      " [-0.14356432  0.27196011  0.06337905  0.0183485 ]\n",
      " [-0.03363963  0.23839099 -0.13327983  0.06969478]\n",
      " [-0.01939171 -0.09694272  0.10751356 -0.27117148]\n",
      " [-0.29056424 -0.26685734 -0.10531944  0.08974031]\n",
      " [ 0.176224   -0.06388589  0.01785566  0.09516976]\n",
      " [ 0.11166366  0.16577352  0.0223224   0.13826622]\n",
      " [ 0.25002208  0.18290407 -0.08506088  0.0369285 ]\n",
      " [-0.02939975  0.1836549   0.1187491   0.1003536 ]\n",
      " [ 0.0482936   0.0650819  -0.09613317 -0.30109291]]\n"
     ]
    },
    {
     "data": {
      "application/vnd.jupyter.widget-view+json": {
       "model_id": "8effdf00a8474e3ab31862ef8bad92cc",
       "version_major": 2,
       "version_minor": 0
      },
      "text/plain": [
       "  0%|          | 0/6 [00:00<?, ?it/s]"
      ]
     },
     "metadata": {},
     "output_type": "display_data"
    }
   ],
   "source": [
    "all_metrics = []\n",
    "seeds = np.arange(4)\n",
    "\n",
    "for s in seeds:\n",
    "    _, _, _, metrics = L1_cSVD(X, K=4, seed=s, num_iter=6)\n",
    "    all_metrics.append(metrics)"
   ]
  },
  {
   "cell_type": "code",
   "execution_count": 5,
   "metadata": {
    "pycharm": {
     "name": "#%%\n"
    }
   },
   "outputs": [],
   "source": [
    "all_metrics = [{k: v for k, v in x.items() if v} for x in all_metrics]\n",
    "names = list(all_metrics[0].keys())\n",
    "\n",
    "res = pd.DataFrame(columns=names + [\"seed\", \"iter\"])\n",
    "for ii, seed in enumerate(seeds):\n",
    "    for i in range(len(all_metrics[0][names[0]])):\n",
    "        rr = []\n",
    "        for name in names:\n",
    "            rr.append(all_metrics[ii][name][i])\n",
    "        \n",
    "        rr.extend([seed, i+1])\n",
    "        res.loc[len(res) + 1] = rr\n",
    "\n",
    "for c in res.columns:\n",
    "    if c not in names:\n",
    "        res[c] = res[c].astype(int)"
   ]
  },
  {
   "cell_type": "code",
   "execution_count": 11,
   "metadata": {
    "pycharm": {
     "name": "#%%\n"
    }
   },
   "outputs": [
    {
     "data": {
      "image/png": "[encoded data removed]",
      "text/plain": [
       "<Figure size 576x360 with 1 Axes>"
      ]
     },
     "metadata": {
      "needs_background": "light"
     },
     "output_type": "display_data"
    }
   ],
   "source": [
    "fig, ax = plt.subplots(figsize=(8, 5))\n",
    "sns.lineplot(data=res, x=\"iter\", y=\"Mp\", hue=\"seed\", style=\"seed\", markers=[\"o\", \"p\", \"s\", \"D\"], linewidth=2,\n",
    "             palette=\"hls\", ax=ax)\n",
    "plt.ylabel(r'$M_p$ (L1-cSVD)')\n",
    "plt.xlabel(r'Iteration')\n",
    "plt.savefig(\"./images/conv.pdf\", bbox_inches=\"tight\", format=\"pdf\")\n",
    "plt.show()"
   ]
  },
  {
   "cell_type": "markdown",
   "metadata": {
    "pycharm": {
     "name": "#%% md\n"
    }
   },
   "source": [
    "#### B. Performance Analysis with Synthetic Dataset"
   ]
  },
  {
   "cell_type": "code",
   "execution_count": null,
   "metadata": {
    "pycharm": {
     "name": "#%%\n"
    }
   },
   "outputs": [],
   "source": [
    "D = \n",
    "N = \n",
    "K_0 = D // 5\n",
    "\n",
    "U0 = \n",
    "S0 = \n",
    "V0 = \n",
    "\n",
    "X_clean = U0 @ S0 @ V0.T\n",
    "\n",
    "N = \n",
    "\n",
    "R0 = \n"
   ]
  },
  {
   "cell_type": "code",
   "execution_count": null,
   "metadata": {
    "pycharm": {
     "name": "#%%\n"
    }
   },
   "outputs": [],
   "source": []
  },
  {
   "cell_type": "markdown",
   "metadata": {
    "pycharm": {
     "name": "#%% md\n"
    }
   },
   "source": [
    "#### C. Bayesian Classifier"
   ]
  },
  {
   "cell_type": "code",
   "execution_count": 229,
   "metadata": {
    "pycharm": {
     "name": "#%%\n"
    }
   },
   "outputs": [],
   "source": [
    "import pmlb\n",
    "import ssl\n",
    "ssl._create_default_https_context = ssl._create_unverified_context\n",
    "\n",
    "from sklearn.naive_bayes import GaussianNB\n",
    "from sklearn.model_selection import train_test_split\n",
    "from sklearn.metrics import accuracy_score"
   ]
  },
  {
   "cell_type": "code",
   "execution_count": 230,
   "metadata": {
    "pycharm": {
     "name": "#%%\n"
    }
   },
   "outputs": [
    {
     "data": {
      "text/html": [
       "<div>\n",
       "<style scoped>\n",
       "    .dataframe tbody tr th:only-of-type {\n",
       "        vertical-align: middle;\n",
       "    }\n",
       "\n",
       "    .dataframe tbody tr th {\n",
       "        vertical-align: top;\n",
       "    }\n",
       "\n",
       "    .dataframe thead th {\n",
       "        text-align: right;\n",
       "    }\n",
       "</style>\n",
       "<table border=\"1\" class=\"dataframe\">\n",
       "  <thead>\n",
       "    <tr style=\"text-align: right;\">\n",
       "      <th></th>\n",
       "      <th>Train or Test</th>\n",
       "      <th>Speaker Number</th>\n",
       "      <th>Sex</th>\n",
       "      <th>Feature 0</th>\n",
       "      <th>Feature 1</th>\n",
       "      <th>Feature 2</th>\n",
       "      <th>Feature 3</th>\n",
       "      <th>Feature 4</th>\n",
       "      <th>Feature 5</th>\n",
       "      <th>Feature 6</th>\n",
       "      <th>Feature 7</th>\n",
       "      <th>Feature 8</th>\n",
       "      <th>Feature 9</th>\n",
       "      <th>target</th>\n",
       "    </tr>\n",
       "  </thead>\n",
       "  <tbody>\n",
       "    <tr>\n",
       "      <th>0</th>\n",
       "      <td>1</td>\n",
       "      <td>0</td>\n",
       "      <td>1</td>\n",
       "      <td>-3.639</td>\n",
       "      <td>0.418</td>\n",
       "      <td>-0.670</td>\n",
       "      <td>1.779</td>\n",
       "      <td>-0.168</td>\n",
       "      <td>1.627</td>\n",
       "      <td>-0.388</td>\n",
       "      <td>0.529</td>\n",
       "      <td>-0.874</td>\n",
       "      <td>-0.814</td>\n",
       "      <td>8</td>\n",
       "    </tr>\n",
       "    <tr>\n",
       "      <th>1</th>\n",
       "      <td>1</td>\n",
       "      <td>0</td>\n",
       "      <td>1</td>\n",
       "      <td>-3.327</td>\n",
       "      <td>0.496</td>\n",
       "      <td>-0.694</td>\n",
       "      <td>1.365</td>\n",
       "      <td>-0.265</td>\n",
       "      <td>1.933</td>\n",
       "      <td>-0.363</td>\n",
       "      <td>0.510</td>\n",
       "      <td>-0.621</td>\n",
       "      <td>-0.488</td>\n",
       "      <td>2</td>\n",
       "    </tr>\n",
       "    <tr>\n",
       "      <th>2</th>\n",
       "      <td>1</td>\n",
       "      <td>0</td>\n",
       "      <td>1</td>\n",
       "      <td>-2.120</td>\n",
       "      <td>0.894</td>\n",
       "      <td>-1.576</td>\n",
       "      <td>0.147</td>\n",
       "      <td>-0.707</td>\n",
       "      <td>1.559</td>\n",
       "      <td>-0.579</td>\n",
       "      <td>0.676</td>\n",
       "      <td>-0.809</td>\n",
       "      <td>-0.049</td>\n",
       "      <td>1</td>\n",
       "    </tr>\n",
       "    <tr>\n",
       "      <th>3</th>\n",
       "      <td>1</td>\n",
       "      <td>0</td>\n",
       "      <td>1</td>\n",
       "      <td>-2.287</td>\n",
       "      <td>1.809</td>\n",
       "      <td>-1.498</td>\n",
       "      <td>1.012</td>\n",
       "      <td>-1.053</td>\n",
       "      <td>1.060</td>\n",
       "      <td>-0.567</td>\n",
       "      <td>0.235</td>\n",
       "      <td>-0.091</td>\n",
       "      <td>-0.795</td>\n",
       "      <td>0</td>\n",
       "    </tr>\n",
       "    <tr>\n",
       "      <th>4</th>\n",
       "      <td>1</td>\n",
       "      <td>0</td>\n",
       "      <td>1</td>\n",
       "      <td>-2.598</td>\n",
       "      <td>1.938</td>\n",
       "      <td>-0.846</td>\n",
       "      <td>1.062</td>\n",
       "      <td>-1.633</td>\n",
       "      <td>0.764</td>\n",
       "      <td>0.394</td>\n",
       "      <td>-0.150</td>\n",
       "      <td>0.277</td>\n",
       "      <td>-0.396</td>\n",
       "      <td>5</td>\n",
       "    </tr>\n",
       "    <tr>\n",
       "      <th>...</th>\n",
       "      <td>...</td>\n",
       "      <td>...</td>\n",
       "      <td>...</td>\n",
       "      <td>...</td>\n",
       "      <td>...</td>\n",
       "      <td>...</td>\n",
       "      <td>...</td>\n",
       "      <td>...</td>\n",
       "      <td>...</td>\n",
       "      <td>...</td>\n",
       "      <td>...</td>\n",
       "      <td>...</td>\n",
       "      <td>...</td>\n",
       "      <td>...</td>\n",
       "    </tr>\n",
       "    <tr>\n",
       "      <th>985</th>\n",
       "      <td>0</td>\n",
       "      <td>14</td>\n",
       "      <td>0</td>\n",
       "      <td>-3.239</td>\n",
       "      <td>3.083</td>\n",
       "      <td>-1.427</td>\n",
       "      <td>-0.202</td>\n",
       "      <td>-0.282</td>\n",
       "      <td>1.421</td>\n",
       "      <td>0.576</td>\n",
       "      <td>0.068</td>\n",
       "      <td>-0.914</td>\n",
       "      <td>0.147</td>\n",
       "      <td>3</td>\n",
       "    </tr>\n",
       "    <tr>\n",
       "      <th>986</th>\n",
       "      <td>0</td>\n",
       "      <td>14</td>\n",
       "      <td>0</td>\n",
       "      <td>-3.753</td>\n",
       "      <td>3.605</td>\n",
       "      <td>-0.899</td>\n",
       "      <td>-0.747</td>\n",
       "      <td>-0.401</td>\n",
       "      <td>1.765</td>\n",
       "      <td>0.620</td>\n",
       "      <td>0.754</td>\n",
       "      <td>-0.835</td>\n",
       "      <td>-0.301</td>\n",
       "      <td>9</td>\n",
       "    </tr>\n",
       "    <tr>\n",
       "      <th>987</th>\n",
       "      <td>0</td>\n",
       "      <td>14</td>\n",
       "      <td>0</td>\n",
       "      <td>-3.980</td>\n",
       "      <td>2.459</td>\n",
       "      <td>0.068</td>\n",
       "      <td>0.023</td>\n",
       "      <td>0.237</td>\n",
       "      <td>1.029</td>\n",
       "      <td>-0.189</td>\n",
       "      <td>0.521</td>\n",
       "      <td>-0.773</td>\n",
       "      <td>-0.500</td>\n",
       "      <td>4</td>\n",
       "    </tr>\n",
       "    <tr>\n",
       "      <th>988</th>\n",
       "      <td>0</td>\n",
       "      <td>14</td>\n",
       "      <td>0</td>\n",
       "      <td>-4.264</td>\n",
       "      <td>2.925</td>\n",
       "      <td>0.065</td>\n",
       "      <td>0.794</td>\n",
       "      <td>0.323</td>\n",
       "      <td>0.515</td>\n",
       "      <td>-1.282</td>\n",
       "      <td>-0.140</td>\n",
       "      <td>-0.863</td>\n",
       "      <td>-0.390</td>\n",
       "      <td>10</td>\n",
       "    </tr>\n",
       "    <tr>\n",
       "      <th>989</th>\n",
       "      <td>0</td>\n",
       "      <td>14</td>\n",
       "      <td>0</td>\n",
       "      <td>-3.291</td>\n",
       "      <td>2.324</td>\n",
       "      <td>-0.679</td>\n",
       "      <td>0.285</td>\n",
       "      <td>0.441</td>\n",
       "      <td>0.557</td>\n",
       "      <td>-0.227</td>\n",
       "      <td>0.115</td>\n",
       "      <td>-1.046</td>\n",
       "      <td>0.697</td>\n",
       "      <td>7</td>\n",
       "    </tr>\n",
       "  </tbody>\n",
       "</table>\n",
       "<p>990 rows × 14 columns</p>\n",
       "</div>"
      ],
      "text/plain": [
       "     Train or Test  Speaker Number  Sex  Feature 0  Feature 1  Feature 2  \\\n",
       "0                1               0    1     -3.639      0.418     -0.670   \n",
       "1                1               0    1     -3.327      0.496     -0.694   \n",
       "2                1               0    1     -2.120      0.894     -1.576   \n",
       "3                1               0    1     -2.287      1.809     -1.498   \n",
       "4                1               0    1     -2.598      1.938     -0.846   \n",
       "..             ...             ...  ...        ...        ...        ...   \n",
       "985              0              14    0     -3.239      3.083     -1.427   \n",
       "986              0              14    0     -3.753      3.605     -0.899   \n",
       "987              0              14    0     -3.980      2.459      0.068   \n",
       "988              0              14    0     -4.264      2.925      0.065   \n",
       "989              0              14    0     -3.291      2.324     -0.679   \n",
       "\n",
       "     Feature 3  Feature 4  Feature 5  Feature 6  Feature 7  Feature 8  \\\n",
       "0        1.779     -0.168      1.627     -0.388      0.529     -0.874   \n",
       "1        1.365     -0.265      1.933     -0.363      0.510     -0.621   \n",
       "2        0.147     -0.707      1.559     -0.579      0.676     -0.809   \n",
       "3        1.012     -1.053      1.060     -0.567      0.235     -0.091   \n",
       "4        1.062     -1.633      0.764      0.394     -0.150      0.277   \n",
       "..         ...        ...        ...        ...        ...        ...   \n",
       "985     -0.202     -0.282      1.421      0.576      0.068     -0.914   \n",
       "986     -0.747     -0.401      1.765      0.620      0.754     -0.835   \n",
       "987      0.023      0.237      1.029     -0.189      0.521     -0.773   \n",
       "988      0.794      0.323      0.515     -1.282     -0.140     -0.863   \n",
       "989      0.285      0.441      0.557     -0.227      0.115     -1.046   \n",
       "\n",
       "     Feature 9  target  \n",
       "0       -0.814       8  \n",
       "1       -0.488       2  \n",
       "2       -0.049       1  \n",
       "3       -0.795       0  \n",
       "4       -0.396       5  \n",
       "..         ...     ...  \n",
       "985      0.147       3  \n",
       "986     -0.301       9  \n",
       "987     -0.500       4  \n",
       "988     -0.390      10  \n",
       "989      0.697       7  \n",
       "\n",
       "[990 rows x 14 columns]"
      ]
     },
     "execution_count": 230,
     "metadata": {},
     "output_type": "execute_result"
    }
   ],
   "source": [
    "vowel_data = pmlb.fetch_data('vowel')\n",
    "vowel_data"
   ]
  },
  {
   "cell_type": "code",
   "execution_count": 231,
   "metadata": {
    "pycharm": {
     "name": "#%%\n"
    }
   },
   "outputs": [
    {
     "data": {
      "text/plain": [
       "Index(['Train or Test', 'Speaker Number', 'Sex', 'Feature 0', 'Feature 1',\n",
       "       'Feature 2', 'Feature 3', 'Feature 4', 'Feature 5', 'Feature 6',\n",
       "       'Feature 7', 'Feature 8', 'Feature 9', 'target'],\n",
       "      dtype='object')"
      ]
     },
     "execution_count": 231,
     "metadata": {},
     "output_type": "execute_result"
    }
   ],
   "source": [
    "vowel_data.columns"
   ]
  },
  {
   "cell_type": "markdown",
   "metadata": {
    "pycharm": {
     "name": "#%% md\n"
    }
   },
   "source": [
    "### Train test split"
   ]
  },
  {
   "cell_type": "code",
   "execution_count": 232,
   "metadata": {
    "pycharm": {
     "name": "#%%\n"
    }
   },
   "outputs": [
    {
     "data": {
      "text/plain": [
       "2     75\n",
       "1     75\n",
       "8     75\n",
       "10    75\n",
       "9     75\n",
       "5     75\n",
       "4     75\n",
       "3     75\n",
       "6     75\n",
       "0     75\n",
       "7     75\n",
       "Name: target, dtype: int64"
      ]
     },
     "execution_count": 232,
     "metadata": {},
     "output_type": "execute_result"
    }
   ],
   "source": [
    "target = vowel_data[\"target\"]\n",
    "vowel_data_dropped = vowel_data.drop(columns=['Train or Test', 'Speaker Number'])\n",
    "vowel_data_train, vowel_data_test = train_test_split(vowel_data_dropped,\n",
    "                                                     test_size=1/6, stratify=target)\n",
    "vowel_data_train.target.value_counts()"
   ]
  },
  {
   "cell_type": "code",
   "execution_count": 348,
   "metadata": {
    "pycharm": {
     "name": "#%%\n"
    }
   },
   "outputs": [],
   "source": [
    "class BayesianClassifier:\n",
    "    def __init__(self, use_l1csvd=False):\n",
    "        self.medians = []\n",
    "        self.Vs = []\n",
    "        self.Ss = []\n",
    "        self.use_l1csvd = use_l1csvd\n",
    "    \n",
    "    def make_outliers(self, X_i, power=25, outlier_num=3):\n",
    "        mean = np.mean(X_i, axis=0)\n",
    "        indices = np.random.choice(np.arange(X_i.shape[0]), replace=False, size=outlier_num)\n",
    "        for ind in indices:\n",
    "            rand_power = 2 * np.random.rand() - 1\n",
    "            X_i[ind] += rand_power * power * mean\n",
    "        return X_i\n",
    "    \n",
    "    def fit(self, vowel_data, with_outliers=False):\n",
    "        self.medians = []\n",
    "        self.Vs = []\n",
    "        self.Ss = []\n",
    "        \n",
    "        for target in range(11):\n",
    "            X_i = vowel_data[vowel_data_train['target'] == target].drop(columns=['target', 'Sex']).values\n",
    "            if with_outliers:\n",
    "                X_i = self.make_outliers(X_i)\n",
    "            m_i = np.median(X_i, axis=0)\n",
    "            self.medians.append(m_i)\n",
    "            if self.use_l1csvd:\n",
    "                U, S, VT, _ = L1_cSVD(X_i, K=10, seed=42, num_iter=10000)\n",
    "                S = np.diag(S)\n",
    "            else:\n",
    "                U, S, VT = np.linalg.svd(X_i, full_matrices=False)\n",
    "            self.Vs.append(VT.T)\n",
    "            self.Ss.append(S)\n",
    "    \n",
    "    def predict_one(self, y):\n",
    "        min_d = np.inf\n",
    "        ans = None\n",
    "\n",
    "        for i in range(len(self.medians)):\n",
    "            d = 0\n",
    "\n",
    "            m_i = self.medians[i]\n",
    "            V = self.Vs[i]\n",
    "            S = self.Ss[i]\n",
    "\n",
    "\n",
    "            for j in range(m_i.size):\n",
    "                sqrt_sum = np.sum(V[:, j] * (y - m_i)) / (S[j] / np.sqrt(990))\n",
    "                d += sqrt_sum * sqrt_sum\n",
    "\n",
    "            d = np.sqrt(d)\n",
    "            if d <= min_d:\n",
    "                min_d = d\n",
    "                ans = i\n",
    "\n",
    "        return ans\n",
    "    \n",
    "    def predict(self, vowel_data):\n",
    "        pred = []\n",
    "\n",
    "        for i, row in vowel_data.drop(columns=['target', 'Sex']).iterrows():\n",
    "            ans = self.predict_one(row.values)\n",
    "            pred.append(ans)\n",
    "        \n",
    "        return pred"
   ]
  },
  {
   "cell_type": "code",
   "execution_count": 347,
   "metadata": {
    "pycharm": {
     "name": "#%%\n"
    }
   },
   "outputs": [
    {
     "data": {
      "application/vnd.jupyter.widget-view+json": {
       "model_id": "",
       "version_major": 2,
       "version_minor": 0
      },
      "text/plain": [
       "  0%|          | 0/1000 [00:00<?, ?it/s]"
      ]
     },
     "metadata": {},
     "output_type": "display_data"
    }
   ],
   "source": [
    "svd_corrupted = []\n",
    "\n",
    "for _ in tqdm(range(1000), leave=False):\n",
    "    bclf = BayesianClassifier()\n",
    "    bclf.fit(vowel_data_train, with_outliers=True)\n",
    "    pred = bclf.predict(vowel_data_test)\n",
    "    acc = accuracy_score(vowel_data_test[\"target\"], pred)\n",
    "    svd_corrupted.append(acc)"
   ]
  },
  {
   "cell_type": "code",
   "execution_count": 350,
   "metadata": {
    "pycharm": {
     "name": "#%%\n"
    }
   },
   "outputs": [],
   "source": [
    "l1csvd_corrupted = []\n",
    "\n",
    "for _ in tqdm(range(1000), leave=False):\n",
    "    bclf = BayesianClassifier(use_l1csvd=True)\n",
    "    bclf.fit(vowel_data_train, with_outliers=True)\n",
    "    pred = bclf.predict(vowel_data_test)\n",
    "    acc = accuracy_score(vowel_data_test[\"target\"], pred)\n",
    "    l1csvd_corrupted.append(acc)"
   ]
  },
  {
   "cell_type": "code",
   "execution_count": 352,
   "metadata": {
    "pycharm": {
     "name": "#%%\n"
    }
   },
   "outputs": [
    {
     "data": {
      "image/png": "[encoded data removed]",
      "text/plain": [
       "<Figure size 800x500 with 1 Axes>"
      ]
     },
     "metadata": {},
     "output_type": "display_data"
    }
   ],
   "source": [
    "plt.figure(figsize = (8, 5))\n",
    "\n",
    "bclf = BayesianClassifier()\n",
    "bclf.fit(vowel_data_train)\n",
    "pred = bclf.predict(vowel_data_test)\n",
    "base_acc = accuracy_score(vowel_data_test[\"target\"], pred)\n",
    "\n",
    "sns.set_style('whitegrid')\n",
    "sns.kdeplot(np.array(svd_corrupted), label=\"SVD\")\n",
    "sns.kdeplot(np.array(l1csvd_corrupted), label=\"L1-cSVD\")\n",
    "plt.axvline(x=base_acc, label=\"Clean data\", linestyle='dashed')\n",
    "plt.ylabel(\"Density\")\n",
    "plt.xlabel(\"Accuracy\")\n",
    "plt.xlim(0.5, 1)\n",
    "plt.legend()\n",
    "plt.show()"
   ]
  },
  {
   "cell_type": "code",
   "execution_count": null,
   "metadata": {
    "pycharm": {
     "name": "#%%\n"
    }
   },
   "outputs": [],
   "source": []
  }
 ],
 "metadata": {
  "kernelspec": {
   "display_name": "Python 3 (ipykernel)",
   "language": "python",
   "name": "python3"
  },
  "language_info": {
   "codemirror_mode": {
    "name": "ipython",
    "version": 3
   },
   "file_extension": ".py",
   "mimetype": "text/x-python",
   "name": "python",
   "nbconvert_exporter": "python",
   "pygments_lexer": "ipython3",
   "version": "3.9.1rc1"
  },
  "vscode": {
   "interpreter": {
    "hash": "e874ab6b7ba7f297d040cdf2ff5211fbb7948fc1506c83005ccb1c56fd702993"
   }
  }
 },
 "nbformat": 4,
 "nbformat_minor": 2
}