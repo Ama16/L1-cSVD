{
 "cells": [
  {
   "cell_type": "code",
   "execution_count": 226,
   "metadata": {
    "pycharm": {
     "name": "#%%\n"
    }
   },
   "outputs": [
    {
     "name": "stdout",
     "output_type": "stream",
     "text": [
      "The autoreload extension is already loaded. To reload it, use:\n",
      "  %reload_ext autoreload\n"
     ]
    }
   ],
   "source": [
    "from l1_csvd.metrics import metric_11, join_sol, Mp, Mah_dist, NR, R_sv, rate_to_db\n",
    "from l1_csvd.utils.seed import seed_everything\n",
    "from scipy.stats import loguniform\n",
    "from joblib import Parallel, delayed\n",
    "\n",
    "import pandas as pd\n",
    "import numpy as np\n",
    "import seaborn as sns\n",
    "import matplotlib.pyplot as plt\n",
    "\n",
    "import torch\n",
    "import torch.nn as nn\n",
    "\n",
    "from tqdm.notebook import tqdm\n",
    "from IPython.display import display\n",
    "from copy import deepcopy\n",
    "import warnings\n",
    "\n",
    "warnings.filterwarnings('ignore')\n",
    "sns.set()\n",
    "\n",
    "%matplotlib inline\n",
    "%load_ext autoreload\n",
    "%autoreload 2\n",
    "\n",
    "seed_everything(42)"
   ]
  },
  {
   "cell_type": "code",
   "execution_count": null,
   "metadata": {},
   "outputs": [],
   "source": [
    "import numpy as np\n",
    "from scipy.stats import ortho_group\n",
    "\n",
    "from l1_csvd.utils import L1pca\n",
    "\n",
    "def L1_cSVD(X, K, Sigma_clean=None, seed=42, num_iter=100):\n",
    "    \"\"\"Get L1 cSVD decomposition.\n",
    "\n",
    "    Parameters\n",
    "    ----------\n",
    "    X:\n",
    "        data matrix\n",
    "    K:\n",
    "        the number of components\n",
    "    num_iter:\n",
    "        number of iterations\n",
    "    \"\"\"\n",
    "    \n",
    "    seed_everything(seed)\n",
    "    D, N = X.shape\n",
    "    U = L1pca(X, K)\n",
    "    A = np.dot(X.T, U)\n",
    "    Sigma = np.zeros((K, K))\n",
    "    V = ortho_group.rvs(dim=N, random_state=seed)[:K].T\n",
    "    \n",
    "    metrics = {\n",
    "        \"Mp\": [],\n",
    "        \"metric_11\": [],\n",
    "        \"join_sol\": [],\n",
    "        \"Mah_dist\": [],\n",
    "        \"NR\": [],\n",
    "        \"R_sv\": []\n",
    "    }\n",
    "    \n",
    "    for _ in tqdm(range(num_iter)):\n",
    "        for i in range(K):\n",
    "            s = np.empty(N)\n",
    "            M = np.empty(N)\n",
    "            for j in range(N):\n",
    "                s[j] = A[j][i] / V[j][i]\n",
    "\n",
    "                tmp = A[:, i] - s[j] * V[:, i]\n",
    "                M[j] = np.linalg.norm(tmp, ord=1)\n",
    "\n",
    "            j_opt = np.argmin(M)\n",
    "            Sigma[i][i] = s[j_opt]\n",
    "        tmp = np.diag(1 / np.diagonal(Sigma))\n",
    "        U_, Sigma_, V_ = np.linalg.svd(np.dot(A, tmp), full_matrices=False)\n",
    "        V = np.dot(U_, V_)\n",
    "        \n",
    "        metrics[\"metric_11\"].append(metric_11(X, U, Sigma, V))\n",
    "        metrics[\"Mp\"].append(Mp(X, U, Sigma, V))\n",
    "        if Sigma_clean is not None:\n",
    "            metrics[\"R_sv\"].append(R_sv(Sigma, Sigma_clean))\n",
    "                \n",
    "    return U, Sigma, V, metrics\n"
   ]
  },
  {
   "attachments": {},
   "cell_type": "markdown",
   "metadata": {
    "pycharm": {
     "name": "#%% md\n"
    }
   },
   "source": [
    "## A. Algorithm Analysis: Convergence"
   ]
  },
  {
   "cell_type": "code",
   "execution_count": 3,
   "metadata": {
    "pycharm": {
     "name": "#%%\n"
    }
   },
   "outputs": [],
   "source": [
    "X = np.random.randn(10, 50)"
   ]
  },
  {
   "cell_type": "code",
   "execution_count": null,
   "metadata": {
    "pycharm": {
     "name": "#%%\n"
    }
   },
   "outputs": [],
   "source": [
    "all_metrics = []\n",
    "seeds = np.arange(4)\n",
    "\n",
    "for s in seeds:\n",
    "    _, _, _, metrics = L1_cSVD(X, K=4, seed=s, num_iter=6)\n",
    "    all_metrics.append(metrics)"
   ]
  },
  {
   "cell_type": "code",
   "execution_count": 5,
   "metadata": {
    "pycharm": {
     "name": "#%%\n"
    }
   },
   "outputs": [],
   "source": [
    "all_metrics = [{k: v for k, v in x.items() if v} for x in all_metrics]\n",
    "names = list(all_metrics[0].keys())\n",
    "\n",
    "res = pd.DataFrame(columns=names + [\"seed\", \"iter\"])\n",
    "for ii, seed in enumerate(seeds):\n",
    "    for i in range(len(all_metrics[0][names[0]])):\n",
    "        rr = []\n",
    "        for name in names:\n",
    "            rr.append(all_metrics[ii][name][i])\n",
    "        \n",
    "        rr.extend([seed, i+1])\n",
    "        res.loc[len(res) + 1] = rr\n",
    "\n",
    "for c in res.columns:\n",
    "    if c not in names:\n",
    "        res[c] = res[c].astype(int)"
   ]
  },
  {
   "cell_type": "code",
   "execution_count": 11,
   "metadata": {
    "pycharm": {
     "name": "#%%\n"
    }
   },
   "outputs": [
    {
     "data": {
      "image/png": "[encoded data removed]",
      "text/plain": [
       "<Figure size 576x360 with 1 Axes>"
      ]
     },
     "metadata": {
      "needs_background": "light"
     },
     "output_type": "display_data"
    }
   ],
   "source": [
    "fig, ax = plt.subplots(figsize=(8, 5))\n",
    "sns.lineplot(data=res, x=\"iter\", y=\"Mp\", hue=\"seed\", style=\"seed\", markers=[\"o\", \"p\", \"s\", \"D\"], linewidth=2,\n",
    "             palette=\"hls\", ax=ax)\n",
    "plt.ylabel(r'$M_p$ (L1-cSVD)')\n",
    "plt.xlabel(r'Iteration')\n",
    "plt.savefig(\"./images/conv.pdf\", bbox_inches=\"tight\", format=\"pdf\")\n",
    "plt.show()"
   ]
  },
  {
   "attachments": {},
   "cell_type": "markdown",
   "metadata": {
    "pycharm": {
     "name": "#%% md\n"
    }
   },
   "source": [
    "## B. Performance Analysis with Synthetic Dataset"
   ]
  },
  {
   "cell_type": "code",
   "execution_count": null,
   "metadata": {},
   "outputs": [],
   "source": [
    "def get_noise(n, s, snr_db):\n",
    "    snr = 10.0**(snr_db/10.0)\n",
    "    es = (s ** 2).sum()\n",
    "    en = (n ** 2).sum()\n",
    "    \n",
    "    alpha = np.sqrt(es / (snr * en))\n",
    "    return alpha * n\n",
    "\n",
    "def get_osr_noise_exact(G, R_out, S_out, S, osr_db):\n",
    "    osr = 10.0**(osr_db/10.0)\n",
    "    \n",
    "    fl = True\n",
    "    while fl:\n",
    "        n = np.random.randn(*S_out.shape)\n",
    "        A = G * (R_out @ S_out)\n",
    "        B = G * (R_out @ n)\n",
    "        \n",
    "        a = (B ** 2).sum()\n",
    "        b = 2 * (A * B).sum()\n",
    "        c = (A ** 2).sum() - (S ** 2).sum() / osr\n",
    "\n",
    "        rt = np.roots([a, b, c])\n",
    "        if not(len(rt) == 0 or rt[0].imag != 0):\n",
    "            fl = False\n",
    "    return S_out + n * rt[0]\n",
    "\n",
    "def get_osr_noise_pytorch(G, R_out, S_out, S, osr_db):\n",
    "    osr = 10.0**(osr_db/10.0)\n",
    "    \n",
    "    class Net(nn.Module):\n",
    "        def __init__(self, n, G, R_out, S_out, S0, osr_db):\n",
    "            super().__init__()\n",
    "            self.n = torch.nn.Parameter(n, requires_grad=True)\n",
    "            self.G = torch.nn.Parameter(G, requires_grad=False)\n",
    "            self.R_out = torch.nn.Parameter(R_out, requires_grad=False)\n",
    "            self.S_out = torch.nn.Parameter(S_out, requires_grad=False)\n",
    "            self.osr_db = torch.nn.Parameter(torch.Tensor([osr_db]), requires_grad=False)\n",
    "            self.signal_norm = torch.nn.Parameter(torch.Tensor([(S0 ** 2).sum()]), requires_grad=False)\n",
    "            self.S0 = torch.nn.Parameter(torch.Tensor(S0), requires_grad=False)\n",
    "            \n",
    "        def forward(self, x):\n",
    "            return 10 * torch.log10(NR(self.G * (self.R_out @ (self.S_out + self.n)), self.S0))\n",
    " \n",
    "    n = torch.randn(*S_out.shape)\n",
    "    G = torch.Tensor(G)\n",
    "    R_out = torch.Tensor(R_out)\n",
    "    S_out = torch.Tensor(S_out)\n",
    "    S = torch.Tensor(S)\n",
    "    model = Net(n, G, R_out, S_out, S0, osr_db)\n",
    "    \n",
    "    criterion = nn.MSELoss()\n",
    "    optimizer = torch.optim.Adam(model.parameters())\n",
    "    \n",
    "    best_l = 1e6\n",
    "    best_n = model.n.data\n",
    "    for i in range(10000):\n",
    "        optimizer.zero_grad()\n",
    "        outputs = model(torch.tensor([]))\n",
    "        # loss = criterion(outputs, torch.log(torch.Tensor([model.signal_norm])) - torch.log(torch.Tensor([osr])))\n",
    "        loss = criterion(outputs, torch.Tensor([osr_db]))\n",
    "        \n",
    "        if loss < best_l:\n",
    "            best_l = loss\n",
    "            best_n = deepcopy(model.n.data)\n",
    "        loss.backward()\n",
    "        optimizer.step()\n",
    "    \n",
    "    return (model.S_out.data + best_n).numpy()\n",
    "\n",
    "\n",
    "D = 10\n",
    "N = 50\n",
    "K = 4\n",
    "K_0 = 4\n",
    "P_0 = 0.04\n",
    "\n",
    "SNR_db = 10\n",
    "OSR_db = 10\n",
    "\n",
    "U0 = np.random.randn(D, K)\n",
    "S0 = np.diag(loguniform.rvs(1e-3, 1e1, size=K))\n",
    "V0 = np.random.randn(N, K)\n",
    "\n",
    "N_matr = np.random.randn(D, N)\n",
    "N_matr = get_noise(N_matr, S0, SNR_db)\n",
    "\n",
    "R_out = np.random.randn(D, K_0)\n",
    "G = np.random.choice([0, 1], p=[1 - P_0, P_0], size=N)\n",
    "G = np.tile(G.reshape(1, -1), (D, 1))\n",
    "S_out = np.random.randn(K_0, N)\n",
    "S_out = get_osr_noise_pytorch(G, R_out, S_out, S0, OSR_db)\n",
    "\n",
    "O_matr = G * (R_out @ S_out)\n",
    "\n",
    "X_clean = U0 @ S0 @ V0.T\n",
    "X_corrupted = X_clean + N_matr + O_matr"
   ]
  },
  {
   "attachments": {},
   "cell_type": "markdown",
   "metadata": {},
   "source": [
    "**Check that matrix with cetrain SNR were founded right**"
   ]
  },
  {
   "cell_type": "code",
   "execution_count": null,
   "metadata": {},
   "outputs": [
    {
     "data": {
      "text/plain": [
       "(10, 10.000000000000002)"
      ]
     },
     "metadata": {},
     "output_type": "display_data"
    }
   ],
   "source": [
    "SNR_db, rate_to_db(NR(N_matr, S0))"
   ]
  },
  {
   "cell_type": "code",
   "execution_count": null,
   "metadata": {},
   "outputs": [
    {
     "data": {
      "text/plain": [
       "(10, 10.000000294247222)"
      ]
     },
     "metadata": {},
     "output_type": "display_data"
    }
   ],
   "source": [
    "OSR_db, rate_to_db(NR(O_matr, S0))"
   ]
  },
  {
   "cell_type": "code",
   "execution_count": null,
   "metadata": {},
   "outputs": [],
   "source": [
    "N_points = 10 ** 3\n",
    "step = 5\n",
    "# SNR_grid = np.arange(-20, 21, step).tolist()\n",
    "SNR_grid = [10]\n",
    "\n",
    "# OSR_grid = np.arange(-20, 21, step).tolist()\n",
    "OSR_grid = np.random.uniform(-20, 20, N_points).tolist()"
   ]
  },
  {
   "cell_type": "code",
   "execution_count": null,
   "metadata": {},
   "outputs": [],
   "source": [
    "add_cols = [f\"R_sv_{i+1}\" for i in range(K)]\n",
    "res = pd.DataFrame(columns=[\"R_sv\", \"SNR (db)\", \"OSR (db)\", \"method\"] + add_cols)\n",
    "\n",
    "for SNR_db in SNR_grid:\n",
    "    for OSR_db in OSR_grid:\n",
    "        S_out = np.random.randn(K_0, N)\n",
    "        N_matr = get_noise(N_matr, S0, SNR_db)\n",
    "        S_out = get_osr_noise_pytorch(G, R_out, S_out, S0, OSR_db)\n",
    "        O_matr = G * (R_out @ S_out)\n",
    "\n",
    "        X_corrupted = X_clean + N_matr + O_matr\n",
    "        \n",
    "        metrics = []\n",
    "        _, S_est, _, metrics = L1_cSVD(X_corrupted, K, Sigma_clean=S0, seed=42, num_iter=10)\n",
    "        res.loc[len(res) + 1] = [metrics[\"R_sv\"][-1], SNR_db, OSR_db, \"L1-cSVD\"] + np.diag(S_est).tolist()\n",
    "        \n",
    "        vanilla_s = np.linalg.svd(X_corrupted, full_matrices=False)\n",
    "        vanilla_s = np.diag(vanilla_s[1][:K])\n",
    "        res.loc[len(res) + 1] = [R_sv(vanilla_s, S0), SNR_db, OSR_db, \"SVD\"] + np.diag(vanilla_s).tolist()\n",
    "\n",
    "for i, c in enumerate(add_cols):\n",
    "    res[c] = ((res[c] - S0[i, i]) ** 2) / (S0[i, i] ** 2)\n",
    "\n",
    "scols = [\"R_sv\"] + add_cols\n",
    "\n",
    "all_res = []\n",
    "x_new = np.linspace(-20, 20, v.shape[0])\n",
    "for m in res.method.unique():\n",
    "    v = res[res.method == m].sort_values(\"OSR (db)\").copy()\n",
    "    for c in scols:\n",
    "        vv = v[\"OSR (db)\"].values\n",
    "        v[\"OSR (db)\"] = x_new\n",
    "        model = np.poly1d(np.polyfit(vv, v[c].values, 10))\n",
    "        v[c] = model(x_new)\n",
    "    all_res.append(v)\n",
    "\n",
    "sm_res = pd.concat(all_res, axis=0)\n",
    "res = sm_res"
   ]
  },
  {
   "attachments": {},
   "cell_type": "markdown",
   "metadata": {},
   "source": [
    "$\\operatorname{OSR}(X) = \\frac{\\|S_{true}\\|_F^2}{\\|X\\|_F^2}$ (it's inverted version of $\\operatorname{OSR}(X)$ defined in paper)"
   ]
  },
  {
   "attachments": {},
   "cell_type": "markdown",
   "metadata": {},
   "source": [
    "If axis of image is not visible pls check pics in `images` dir"
   ]
  },
  {
   "cell_type": "code",
   "execution_count": null,
   "metadata": {},
   "outputs": [
    {
     "data": {
      "image/png": "[encoded data removed]",
      "text/plain": [
       "<Figure size 576x360 with 1 Axes>"
      ]
     },
     "metadata": {},
     "output_type": "display_data"
    }
   ],
   "source": [
    "fig, ax = plt.subplots(figsize=(8, 5))\n",
    "sns.lineplot(data=res, x=\"OSR (db)\", y=\"R_sv\", hue=\"method\", style=\"method\", linewidth=2,\n",
    "             ax=ax)\n",
    "plt.title('Line is mean average ({} runs)'.format(N_points))\n",
    "plt.savefig(\"./images/exp_B_r_sv_v2.pdf\", bbox_inches=\"tight\", format=\"pdf\")\n",
    "plt.show()"
   ]
  },
  {
   "cell_type": "code",
   "execution_count": null,
   "metadata": {},
   "outputs": [
    {
     "data": {
      "image/png": "[encoded data removed]",
      "text/plain": [
       "<Figure size 1080x720 with 4 Axes>"
      ]
     },
     "metadata": {},
     "output_type": "display_data"
    }
   ],
   "source": [
    "fig, axs = plt.subplots(nrows=2, ncols=2, figsize=(15, 10))\n",
    "axs = np.array(axs).flatten()\n",
    "\n",
    "for i, ax in enumerate(axs):\n",
    "    sns.lineplot(data=res, x=\"OSR (db)\", y=f\"R_sv_{i+1}\", hue=\"method\", style=\"method\", markers=[\"o\", \"p\"], linewidth=2,\n",
    "             ax=ax)\n",
    "plt.savefig(\"./images/exp_B_r_sv_i.pdf\", bbox_inches=\"tight\", format=\"pdf\")\n",
    "plt.show()"
   ]
  },
  {
   "attachments": {},
   "cell_type": "markdown",
   "metadata": {
    "pycharm": {
     "name": "#%% md\n"
    }
   },
   "source": [
    "## C. Bayesian Classifier"
   ]
  },
  {
   "cell_type": "code",
   "execution_count": 229,
   "metadata": {
    "pycharm": {
     "name": "#%%\n"
    }
   },
   "outputs": [],
   "source": [
    "import pmlb\n",
    "import ssl\n",
    "ssl._create_default_https_context = ssl._create_unverified_context\n",
    "\n",
    "from sklearn.naive_bayes import GaussianNB\n",
    "from sklearn.model_selection import train_test_split\n",
    "from sklearn.metrics import accuracy_score"
   ]
  },
  {
   "cell_type": "code",
   "execution_count": 230,
   "metadata": {
    "pycharm": {
     "name": "#%%\n"
    }
   },
   "outputs": [
    {
     "data": {
      "text/html": [
       "<div>\n",
       "<style scoped>\n",
       "    .dataframe tbody tr th:only-of-type {\n",
       "        vertical-align: middle;\n",
       "    }\n",
       "\n",
       "    .dataframe tbody tr th {\n",
       "        vertical-align: top;\n",
       "    }\n",
       "\n",
       "    .dataframe thead th {\n",
       "        text-align: right;\n",
       "    }\n",
       "</style>\n",
       "<table border=\"1\" class=\"dataframe\">\n",
       "  <thead>\n",
       "    <tr style=\"text-align: right;\">\n",
       "      <th></th>\n",
       "      <th>Train or Test</th>\n",
       "      <th>Speaker Number</th>\n",
       "      <th>Sex</th>\n",
       "      <th>Feature 0</th>\n",
       "      <th>Feature 1</th>\n",
       "      <th>Feature 2</th>\n",
       "      <th>Feature 3</th>\n",
       "      <th>Feature 4</th>\n",
       "      <th>Feature 5</th>\n",
       "      <th>Feature 6</th>\n",
       "      <th>Feature 7</th>\n",
       "      <th>Feature 8</th>\n",
       "      <th>Feature 9</th>\n",
       "      <th>target</th>\n",
       "    </tr>\n",
       "  </thead>\n",
       "  <tbody>\n",
       "    <tr>\n",
       "      <th>0</th>\n",
       "      <td>1</td>\n",
       "      <td>0</td>\n",
       "      <td>1</td>\n",
       "      <td>-3.639</td>\n",
       "      <td>0.418</td>\n",
       "      <td>-0.670</td>\n",
       "      <td>1.779</td>\n",
       "      <td>-0.168</td>\n",
       "      <td>1.627</td>\n",
       "      <td>-0.388</td>\n",
       "      <td>0.529</td>\n",
       "      <td>-0.874</td>\n",
       "      <td>-0.814</td>\n",
       "      <td>8</td>\n",
       "    </tr>\n",
       "    <tr>\n",
       "      <th>1</th>\n",
       "      <td>1</td>\n",
       "      <td>0</td>\n",
       "      <td>1</td>\n",
       "      <td>-3.327</td>\n",
       "      <td>0.496</td>\n",
       "      <td>-0.694</td>\n",
       "      <td>1.365</td>\n",
       "      <td>-0.265</td>\n",
       "      <td>1.933</td>\n",
       "      <td>-0.363</td>\n",
       "      <td>0.510</td>\n",
       "      <td>-0.621</td>\n",
       "      <td>-0.488</td>\n",
       "      <td>2</td>\n",
       "    </tr>\n",
       "    <tr>\n",
       "      <th>2</th>\n",
       "      <td>1</td>\n",
       "      <td>0</td>\n",
       "      <td>1</td>\n",
       "      <td>-2.120</td>\n",
       "      <td>0.894</td>\n",
       "      <td>-1.576</td>\n",
       "      <td>0.147</td>\n",
       "      <td>-0.707</td>\n",
       "      <td>1.559</td>\n",
       "      <td>-0.579</td>\n",
       "      <td>0.676</td>\n",
       "      <td>-0.809</td>\n",
       "      <td>-0.049</td>\n",
       "      <td>1</td>\n",
       "    </tr>\n",
       "    <tr>\n",
       "      <th>3</th>\n",
       "      <td>1</td>\n",
       "      <td>0</td>\n",
       "      <td>1</td>\n",
       "      <td>-2.287</td>\n",
       "      <td>1.809</td>\n",
       "      <td>-1.498</td>\n",
       "      <td>1.012</td>\n",
       "      <td>-1.053</td>\n",
       "      <td>1.060</td>\n",
       "      <td>-0.567</td>\n",
       "      <td>0.235</td>\n",
       "      <td>-0.091</td>\n",
       "      <td>-0.795</td>\n",
       "      <td>0</td>\n",
       "    </tr>\n",
       "    <tr>\n",
       "      <th>4</th>\n",
       "      <td>1</td>\n",
       "      <td>0</td>\n",
       "      <td>1</td>\n",
       "      <td>-2.598</td>\n",
       "      <td>1.938</td>\n",
       "      <td>-0.846</td>\n",
       "      <td>1.062</td>\n",
       "      <td>-1.633</td>\n",
       "      <td>0.764</td>\n",
       "      <td>0.394</td>\n",
       "      <td>-0.150</td>\n",
       "      <td>0.277</td>\n",
       "      <td>-0.396</td>\n",
       "      <td>5</td>\n",
       "    </tr>\n",
       "    <tr>\n",
       "      <th>...</th>\n",
       "      <td>...</td>\n",
       "      <td>...</td>\n",
       "      <td>...</td>\n",
       "      <td>...</td>\n",
       "      <td>...</td>\n",
       "      <td>...</td>\n",
       "      <td>...</td>\n",
       "      <td>...</td>\n",
       "      <td>...</td>\n",
       "      <td>...</td>\n",
       "      <td>...</td>\n",
       "      <td>...</td>\n",
       "      <td>...</td>\n",
       "      <td>...</td>\n",
       "    </tr>\n",
       "    <tr>\n",
       "      <th>985</th>\n",
       "      <td>0</td>\n",
       "      <td>14</td>\n",
       "      <td>0</td>\n",
       "      <td>-3.239</td>\n",
       "      <td>3.083</td>\n",
       "      <td>-1.427</td>\n",
       "      <td>-0.202</td>\n",
       "      <td>-0.282</td>\n",
       "      <td>1.421</td>\n",
       "      <td>0.576</td>\n",
       "      <td>0.068</td>\n",
       "      <td>-0.914</td>\n",
       "      <td>0.147</td>\n",
       "      <td>3</td>\n",
       "    </tr>\n",
       "    <tr>\n",
       "      <th>986</th>\n",
       "      <td>0</td>\n",
       "      <td>14</td>\n",
       "      <td>0</td>\n",
       "      <td>-3.753</td>\n",
       "      <td>3.605</td>\n",
       "      <td>-0.899</td>\n",
       "      <td>-0.747</td>\n",
       "      <td>-0.401</td>\n",
       "      <td>1.765</td>\n",
       "      <td>0.620</td>\n",
       "      <td>0.754</td>\n",
       "      <td>-0.835</td>\n",
       "      <td>-0.301</td>\n",
       "      <td>9</td>\n",
       "    </tr>\n",
       "    <tr>\n",
       "      <th>987</th>\n",
       "      <td>0</td>\n",
       "      <td>14</td>\n",
       "      <td>0</td>\n",
       "      <td>-3.980</td>\n",
       "      <td>2.459</td>\n",
       "      <td>0.068</td>\n",
       "      <td>0.023</td>\n",
       "      <td>0.237</td>\n",
       "      <td>1.029</td>\n",
       "      <td>-0.189</td>\n",
       "      <td>0.521</td>\n",
       "      <td>-0.773</td>\n",
       "      <td>-0.500</td>\n",
       "      <td>4</td>\n",
       "    </tr>\n",
       "    <tr>\n",
       "      <th>988</th>\n",
       "      <td>0</td>\n",
       "      <td>14</td>\n",
       "      <td>0</td>\n",
       "      <td>-4.264</td>\n",
       "      <td>2.925</td>\n",
       "      <td>0.065</td>\n",
       "      <td>0.794</td>\n",
       "      <td>0.323</td>\n",
       "      <td>0.515</td>\n",
       "      <td>-1.282</td>\n",
       "      <td>-0.140</td>\n",
       "      <td>-0.863</td>\n",
       "      <td>-0.390</td>\n",
       "      <td>10</td>\n",
       "    </tr>\n",
       "    <tr>\n",
       "      <th>989</th>\n",
       "      <td>0</td>\n",
       "      <td>14</td>\n",
       "      <td>0</td>\n",
       "      <td>-3.291</td>\n",
       "      <td>2.324</td>\n",
       "      <td>-0.679</td>\n",
       "      <td>0.285</td>\n",
       "      <td>0.441</td>\n",
       "      <td>0.557</td>\n",
       "      <td>-0.227</td>\n",
       "      <td>0.115</td>\n",
       "      <td>-1.046</td>\n",
       "      <td>0.697</td>\n",
       "      <td>7</td>\n",
       "    </tr>\n",
       "  </tbody>\n",
       "</table>\n",
       "<p>990 rows × 14 columns</p>\n",
       "</div>"
      ],
      "text/plain": [
       "     Train or Test  Speaker Number  Sex  Feature 0  Feature 1  Feature 2  \\\n",
       "0                1               0    1     -3.639      0.418     -0.670   \n",
       "1                1               0    1     -3.327      0.496     -0.694   \n",
       "2                1               0    1     -2.120      0.894     -1.576   \n",
       "3                1               0    1     -2.287      1.809     -1.498   \n",
       "4                1               0    1     -2.598      1.938     -0.846   \n",
       "..             ...             ...  ...        ...        ...        ...   \n",
       "985              0              14    0     -3.239      3.083     -1.427   \n",
       "986              0              14    0     -3.753      3.605     -0.899   \n",
       "987              0              14    0     -3.980      2.459      0.068   \n",
       "988              0              14    0     -4.264      2.925      0.065   \n",
       "989              0              14    0     -3.291      2.324     -0.679   \n",
       "\n",
       "     Feature 3  Feature 4  Feature 5  Feature 6  Feature 7  Feature 8  \\\n",
       "0        1.779     -0.168      1.627     -0.388      0.529     -0.874   \n",
       "1        1.365     -0.265      1.933     -0.363      0.510     -0.621   \n",
       "2        0.147     -0.707      1.559     -0.579      0.676     -0.809   \n",
       "3        1.012     -1.053      1.060     -0.567      0.235     -0.091   \n",
       "4        1.062     -1.633      0.764      0.394     -0.150      0.277   \n",
       "..         ...        ...        ...        ...        ...        ...   \n",
       "985     -0.202     -0.282      1.421      0.576      0.068     -0.914   \n",
       "986     -0.747     -0.401      1.765      0.620      0.754     -0.835   \n",
       "987      0.023      0.237      1.029     -0.189      0.521     -0.773   \n",
       "988      0.794      0.323      0.515     -1.282     -0.140     -0.863   \n",
       "989      0.285      0.441      0.557     -0.227      0.115     -1.046   \n",
       "\n",
       "     Feature 9  target  \n",
       "0       -0.814       8  \n",
       "1       -0.488       2  \n",
       "2       -0.049       1  \n",
       "3       -0.795       0  \n",
       "4       -0.396       5  \n",
       "..         ...     ...  \n",
       "985      0.147       3  \n",
       "986     -0.301       9  \n",
       "987     -0.500       4  \n",
       "988     -0.390      10  \n",
       "989      0.697       7  \n",
       "\n",
       "[990 rows x 14 columns]"
      ]
     },
     "execution_count": 230,
     "metadata": {},
     "output_type": "execute_result"
    }
   ],
   "source": [
    "vowel_data = pmlb.fetch_data('vowel')\n",
    "vowel_data"
   ]
  },
  {
   "cell_type": "code",
   "execution_count": 231,
   "metadata": {
    "pycharm": {
     "name": "#%%\n"
    }
   },
   "outputs": [
    {
     "data": {
      "text/plain": [
       "Index(['Train or Test', 'Speaker Number', 'Sex', 'Feature 0', 'Feature 1',\n",
       "       'Feature 2', 'Feature 3', 'Feature 4', 'Feature 5', 'Feature 6',\n",
       "       'Feature 7', 'Feature 8', 'Feature 9', 'target'],\n",
       "      dtype='object')"
      ]
     },
     "execution_count": 231,
     "metadata": {},
     "output_type": "execute_result"
    }
   ],
   "source": [
    "vowel_data.columns"
   ]
  },
  {
   "cell_type": "markdown",
   "metadata": {
    "pycharm": {
     "name": "#%% md\n"
    }
   },
   "source": [
    "### Train test split"
   ]
  },
  {
   "cell_type": "code",
   "execution_count": 232,
   "metadata": {
    "pycharm": {
     "name": "#%%\n"
    }
   },
   "outputs": [
    {
     "data": {
      "text/plain": [
       "2     75\n",
       "1     75\n",
       "8     75\n",
       "10    75\n",
       "9     75\n",
       "5     75\n",
       "4     75\n",
       "3     75\n",
       "6     75\n",
       "0     75\n",
       "7     75\n",
       "Name: target, dtype: int64"
      ]
     },
     "execution_count": 232,
     "metadata": {},
     "output_type": "execute_result"
    }
   ],
   "source": [
    "target = vowel_data[\"target\"]\n",
    "vowel_data_dropped = vowel_data.drop(columns=['Train or Test', 'Speaker Number'])\n",
    "vowel_data_train, vowel_data_test = train_test_split(vowel_data_dropped,\n",
    "                                                     test_size=1/6, stratify=target)\n",
    "vowel_data_train.target.value_counts()"
   ]
  },
  {
   "cell_type": "code",
   "execution_count": 348,
   "metadata": {
    "pycharm": {
     "name": "#%%\n"
    }
   },
   "outputs": [],
   "source": [
    "class BayesianClassifier:\n",
    "    def __init__(self, use_l1csvd=False):\n",
    "        self.medians = []\n",
    "        self.Vs = []\n",
    "        self.Ss = []\n",
    "        self.use_l1csvd = use_l1csvd\n",
    "    \n",
    "    def make_outliers(self, X_i, power=25, outlier_num=3):\n",
    "        mean = np.mean(X_i, axis=0)\n",
    "        indices = np.random.choice(np.arange(X_i.shape[0]), replace=False, size=outlier_num)\n",
    "        for ind in indices:\n",
    "            rand_power = 2 * np.random.rand() - 1\n",
    "            X_i[ind] += rand_power * power * mean\n",
    "        return X_i\n",
    "    \n",
    "    def fit(self, vowel_data, with_outliers=False):\n",
    "        self.medians = []\n",
    "        self.Vs = []\n",
    "        self.Ss = []\n",
    "        \n",
    "        for target in range(11):\n",
    "            X_i = vowel_data[vowel_data_train['target'] == target].drop(columns=['target', 'Sex']).values\n",
    "            if with_outliers:\n",
    "                X_i = self.make_outliers(X_i)\n",
    "            m_i = np.median(X_i, axis=0)\n",
    "            self.medians.append(m_i)\n",
    "            if self.use_l1csvd:\n",
    "                U, S, VT, _ = L1_cSVD(X_i, K=10, seed=42, num_iter=10000)\n",
    "                S = np.diag(S)\n",
    "            else:\n",
    "                U, S, VT = np.linalg.svd(X_i, full_matrices=False)\n",
    "            self.Vs.append(VT.T)\n",
    "            self.Ss.append(S)\n",
    "    \n",
    "    def predict_one(self, y):\n",
    "        min_d = np.inf\n",
    "        ans = None\n",
    "\n",
    "        for i in range(len(self.medians)):\n",
    "            d = 0\n",
    "\n",
    "            m_i = self.medians[i]\n",
    "            V = self.Vs[i]\n",
    "            S = self.Ss[i]\n",
    "\n",
    "\n",
    "            for j in range(m_i.size):\n",
    "                sqrt_sum = np.sum(V[:, j] * (y - m_i)) / (S[j] / np.sqrt(990))\n",
    "                d += sqrt_sum * sqrt_sum\n",
    "\n",
    "            d = np.sqrt(d)\n",
    "            if d <= min_d:\n",
    "                min_d = d\n",
    "                ans = i\n",
    "\n",
    "        return ans\n",
    "    \n",
    "    def predict(self, vowel_data):\n",
    "        pred = []\n",
    "\n",
    "        for i, row in vowel_data.drop(columns=['target', 'Sex']).iterrows():\n",
    "            ans = self.predict_one(row.values)\n",
    "            pred.append(ans)\n",
    "        \n",
    "        return pred"
   ]
  },
  {
   "cell_type": "code",
   "execution_count": 347,
   "metadata": {
    "pycharm": {
     "name": "#%%\n"
    }
   },
   "outputs": [
    {
     "data": {
      "application/vnd.jupyter.widget-view+json": {
       "model_id": "",
       "version_major": 2,
       "version_minor": 0
      },
      "text/plain": [
       "  0%|          | 0/1000 [00:00<?, ?it/s]"
      ]
     },
     "metadata": {},
     "output_type": "display_data"
    }
   ],
   "source": [
    "svd_corrupted = []\n",
    "\n",
    "for _ in tqdm(range(1000), leave=False):\n",
    "    bclf = BayesianClassifier()\n",
    "    bclf.fit(vowel_data_train, with_outliers=True)\n",
    "    pred = bclf.predict(vowel_data_test)\n",
    "    acc = accuracy_score(vowel_data_test[\"target\"], pred)\n",
    "    svd_corrupted.append(acc)"
   ]
  },
  {
   "cell_type": "code",
   "execution_count": 350,
   "metadata": {
    "pycharm": {
     "name": "#%%\n"
    }
   },
   "outputs": [],
   "source": [
    "l1csvd_corrupted = []\n",
    "\n",
    "for _ in tqdm(range(1000), leave=False):\n",
    "    bclf = BayesianClassifier(use_l1csvd=True)\n",
    "    bclf.fit(vowel_data_train, with_outliers=True)\n",
    "    pred = bclf.predict(vowel_data_test)\n",
    "    acc = accuracy_score(vowel_data_test[\"target\"], pred)\n",
    "    l1csvd_corrupted.append(acc)"
   ]
  },
  {
   "cell_type": "code",
   "execution_count": 352,
   "metadata": {
    "pycharm": {
     "name": "#%%\n"
    }
   },
   "outputs": [
    {
     "data": {
      "image/png": "[encoded data removed]",
      "text/plain": [
       "<Figure size 800x500 with 1 Axes>"
      ]
     },
     "metadata": {},
     "output_type": "display_data"
    }
   ],
   "source": [
    "plt.figure(figsize = (8, 5))\n",
    "\n",
    "bclf = BayesianClassifier()\n",
    "bclf.fit(vowel_data_train)\n",
    "pred = bclf.predict(vowel_data_test)\n",
    "base_acc = accuracy_score(vowel_data_test[\"target\"], pred)\n",
    "\n",
    "sns.set_style('whitegrid')\n",
    "sns.kdeplot(np.array(svd_corrupted), label=\"SVD\")\n",
    "sns.kdeplot(np.array(l1csvd_corrupted), label=\"L1-cSVD\")\n",
    "plt.axvline(x=base_acc, label=\"Clean data\", linestyle='dashed')\n",
    "plt.ylabel(\"Density\")\n",
    "plt.xlabel(\"Accuracy\")\n",
    "plt.xlim(0.5, 1)\n",
    "plt.legend()\n",
    "plt.show()"
   ]
  },
  {
   "cell_type": "code",
   "execution_count": null,
   "metadata": {
    "pycharm": {
     "name": "#%%\n"
    }
   },
   "outputs": [],
   "source": []
  }
 ],
 "metadata": {
  "kernelspec": {
   "display_name": "Python 3 (ipykernel)",
   "language": "python",
   "name": "python3"
  },
  "language_info": {
   "codemirror_mode": {
    "name": "ipython",
    "version": 3
   },
   "file_extension": ".py",
   "mimetype": "text/x-python",
   "name": "python",
   "nbconvert_exporter": "python",
   "pygments_lexer": "ipython3",
   "version": "3.8.13"
  },
  "vscode": {
   "interpreter": {
    "hash": "e874ab6b7ba7f297d040cdf2ff5211fbb7948fc1506c83005ccb1c56fd702993"
   }
  }
 },
 "nbformat": 4,
 "nbformat_minor": 2
}
